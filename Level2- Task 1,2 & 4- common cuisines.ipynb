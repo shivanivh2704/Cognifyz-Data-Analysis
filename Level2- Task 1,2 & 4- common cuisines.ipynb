{
 "cells": [
  {
   "cell_type": "code",
   "execution_count": 1,
   "id": "b056ff12-b300-478c-a39b-d5c3390d0af6",
   "metadata": {},
   "outputs": [],
   "source": [
    "import matplotlib.pyplot as plt\n",
    "import pandas as pd\n",
    "import numpy as np\n",
    "import seaborn as sns"
   ]
  },
  {
   "cell_type": "code",
   "execution_count": 2,
   "id": "8eb16c86-db5b-45c7-bbe4-05e6a7c35c76",
   "metadata": {},
   "outputs": [
    {
     "data": {
      "text/html": [
       "<div>\n",
       "<style scoped>\n",
       "    .dataframe tbody tr th:only-of-type {\n",
       "        vertical-align: middle;\n",
       "    }\n",
       "\n",
       "    .dataframe tbody tr th {\n",
       "        vertical-align: top;\n",
       "    }\n",
       "\n",
       "    .dataframe thead th {\n",
       "        text-align: right;\n",
       "    }\n",
       "</style>\n",
       "<table border=\"1\" class=\"dataframe\">\n",
       "  <thead>\n",
       "    <tr style=\"text-align: right;\">\n",
       "      <th></th>\n",
       "      <th>Restaurant ID</th>\n",
       "      <th>Restaurant Name</th>\n",
       "      <th>Country Code</th>\n",
       "      <th>City</th>\n",
       "      <th>Address</th>\n",
       "      <th>Locality</th>\n",
       "      <th>Locality Verbose</th>\n",
       "      <th>Longitude</th>\n",
       "      <th>Latitude</th>\n",
       "      <th>Cuisines</th>\n",
       "      <th>...</th>\n",
       "      <th>Currency</th>\n",
       "      <th>Has Table booking</th>\n",
       "      <th>Has Online delivery</th>\n",
       "      <th>Is delivering now</th>\n",
       "      <th>Switch to order menu</th>\n",
       "      <th>Price range</th>\n",
       "      <th>Aggregate rating</th>\n",
       "      <th>Rating color</th>\n",
       "      <th>Rating text</th>\n",
       "      <th>Votes</th>\n",
       "    </tr>\n",
       "  </thead>\n",
       "  <tbody>\n",
       "    <tr>\n",
       "      <th>0</th>\n",
       "      <td>6317637</td>\n",
       "      <td>Le Petit Souffle</td>\n",
       "      <td>162</td>\n",
       "      <td>Makati City</td>\n",
       "      <td>Third Floor, Century City Mall, Kalayaan Avenu...</td>\n",
       "      <td>Century City Mall, Poblacion, Makati City</td>\n",
       "      <td>Century City Mall, Poblacion, Makati City, Mak...</td>\n",
       "      <td>121.027535</td>\n",
       "      <td>14.565443</td>\n",
       "      <td>French, Japanese, Desserts</td>\n",
       "      <td>...</td>\n",
       "      <td>Botswana Pula(P)</td>\n",
       "      <td>Yes</td>\n",
       "      <td>No</td>\n",
       "      <td>No</td>\n",
       "      <td>No</td>\n",
       "      <td>3</td>\n",
       "      <td>4.8</td>\n",
       "      <td>Dark Green</td>\n",
       "      <td>Excellent</td>\n",
       "      <td>314</td>\n",
       "    </tr>\n",
       "    <tr>\n",
       "      <th>1</th>\n",
       "      <td>6304287</td>\n",
       "      <td>Izakaya Kikufuji</td>\n",
       "      <td>162</td>\n",
       "      <td>Makati City</td>\n",
       "      <td>Little Tokyo, 2277 Chino Roces Avenue, Legaspi...</td>\n",
       "      <td>Little Tokyo, Legaspi Village, Makati City</td>\n",
       "      <td>Little Tokyo, Legaspi Village, Makati City, Ma...</td>\n",
       "      <td>121.014101</td>\n",
       "      <td>14.553708</td>\n",
       "      <td>Japanese</td>\n",
       "      <td>...</td>\n",
       "      <td>Botswana Pula(P)</td>\n",
       "      <td>Yes</td>\n",
       "      <td>No</td>\n",
       "      <td>No</td>\n",
       "      <td>No</td>\n",
       "      <td>3</td>\n",
       "      <td>4.5</td>\n",
       "      <td>Dark Green</td>\n",
       "      <td>Excellent</td>\n",
       "      <td>591</td>\n",
       "    </tr>\n",
       "    <tr>\n",
       "      <th>2</th>\n",
       "      <td>6300002</td>\n",
       "      <td>Heat - Edsa Shangri-La</td>\n",
       "      <td>162</td>\n",
       "      <td>Mandaluyong City</td>\n",
       "      <td>Edsa Shangri-La, 1 Garden Way, Ortigas, Mandal...</td>\n",
       "      <td>Edsa Shangri-La, Ortigas, Mandaluyong City</td>\n",
       "      <td>Edsa Shangri-La, Ortigas, Mandaluyong City, Ma...</td>\n",
       "      <td>121.056831</td>\n",
       "      <td>14.581404</td>\n",
       "      <td>Seafood, Asian, Filipino, Indian</td>\n",
       "      <td>...</td>\n",
       "      <td>Botswana Pula(P)</td>\n",
       "      <td>Yes</td>\n",
       "      <td>No</td>\n",
       "      <td>No</td>\n",
       "      <td>No</td>\n",
       "      <td>4</td>\n",
       "      <td>4.4</td>\n",
       "      <td>Green</td>\n",
       "      <td>Very Good</td>\n",
       "      <td>270</td>\n",
       "    </tr>\n",
       "    <tr>\n",
       "      <th>3</th>\n",
       "      <td>6318506</td>\n",
       "      <td>Ooma</td>\n",
       "      <td>162</td>\n",
       "      <td>Mandaluyong City</td>\n",
       "      <td>Third Floor, Mega Fashion Hall, SM Megamall, O...</td>\n",
       "      <td>SM Megamall, Ortigas, Mandaluyong City</td>\n",
       "      <td>SM Megamall, Ortigas, Mandaluyong City, Mandal...</td>\n",
       "      <td>121.056475</td>\n",
       "      <td>14.585318</td>\n",
       "      <td>Japanese, Sushi</td>\n",
       "      <td>...</td>\n",
       "      <td>Botswana Pula(P)</td>\n",
       "      <td>No</td>\n",
       "      <td>No</td>\n",
       "      <td>No</td>\n",
       "      <td>No</td>\n",
       "      <td>4</td>\n",
       "      <td>4.9</td>\n",
       "      <td>Dark Green</td>\n",
       "      <td>Excellent</td>\n",
       "      <td>365</td>\n",
       "    </tr>\n",
       "    <tr>\n",
       "      <th>4</th>\n",
       "      <td>6314302</td>\n",
       "      <td>Sambo Kojin</td>\n",
       "      <td>162</td>\n",
       "      <td>Mandaluyong City</td>\n",
       "      <td>Third Floor, Mega Atrium, SM Megamall, Ortigas...</td>\n",
       "      <td>SM Megamall, Ortigas, Mandaluyong City</td>\n",
       "      <td>SM Megamall, Ortigas, Mandaluyong City, Mandal...</td>\n",
       "      <td>121.057508</td>\n",
       "      <td>14.584450</td>\n",
       "      <td>Japanese, Korean</td>\n",
       "      <td>...</td>\n",
       "      <td>Botswana Pula(P)</td>\n",
       "      <td>Yes</td>\n",
       "      <td>No</td>\n",
       "      <td>No</td>\n",
       "      <td>No</td>\n",
       "      <td>4</td>\n",
       "      <td>4.8</td>\n",
       "      <td>Dark Green</td>\n",
       "      <td>Excellent</td>\n",
       "      <td>229</td>\n",
       "    </tr>\n",
       "  </tbody>\n",
       "</table>\n",
       "<p>5 rows × 21 columns</p>\n",
       "</div>"
      ],
      "text/plain": [
       "   Restaurant ID         Restaurant Name  Country Code              City  \\\n",
       "0        6317637        Le Petit Souffle           162       Makati City   \n",
       "1        6304287        Izakaya Kikufuji           162       Makati City   \n",
       "2        6300002  Heat - Edsa Shangri-La           162  Mandaluyong City   \n",
       "3        6318506                    Ooma           162  Mandaluyong City   \n",
       "4        6314302             Sambo Kojin           162  Mandaluyong City   \n",
       "\n",
       "                                             Address  \\\n",
       "0  Third Floor, Century City Mall, Kalayaan Avenu...   \n",
       "1  Little Tokyo, 2277 Chino Roces Avenue, Legaspi...   \n",
       "2  Edsa Shangri-La, 1 Garden Way, Ortigas, Mandal...   \n",
       "3  Third Floor, Mega Fashion Hall, SM Megamall, O...   \n",
       "4  Third Floor, Mega Atrium, SM Megamall, Ortigas...   \n",
       "\n",
       "                                     Locality  \\\n",
       "0   Century City Mall, Poblacion, Makati City   \n",
       "1  Little Tokyo, Legaspi Village, Makati City   \n",
       "2  Edsa Shangri-La, Ortigas, Mandaluyong City   \n",
       "3      SM Megamall, Ortigas, Mandaluyong City   \n",
       "4      SM Megamall, Ortigas, Mandaluyong City   \n",
       "\n",
       "                                    Locality Verbose   Longitude   Latitude  \\\n",
       "0  Century City Mall, Poblacion, Makati City, Mak...  121.027535  14.565443   \n",
       "1  Little Tokyo, Legaspi Village, Makati City, Ma...  121.014101  14.553708   \n",
       "2  Edsa Shangri-La, Ortigas, Mandaluyong City, Ma...  121.056831  14.581404   \n",
       "3  SM Megamall, Ortigas, Mandaluyong City, Mandal...  121.056475  14.585318   \n",
       "4  SM Megamall, Ortigas, Mandaluyong City, Mandal...  121.057508  14.584450   \n",
       "\n",
       "                           Cuisines  ...          Currency Has Table booking  \\\n",
       "0        French, Japanese, Desserts  ...  Botswana Pula(P)               Yes   \n",
       "1                          Japanese  ...  Botswana Pula(P)               Yes   \n",
       "2  Seafood, Asian, Filipino, Indian  ...  Botswana Pula(P)               Yes   \n",
       "3                   Japanese, Sushi  ...  Botswana Pula(P)                No   \n",
       "4                  Japanese, Korean  ...  Botswana Pula(P)               Yes   \n",
       "\n",
       "  Has Online delivery Is delivering now Switch to order menu Price range  \\\n",
       "0                  No                No                   No           3   \n",
       "1                  No                No                   No           3   \n",
       "2                  No                No                   No           4   \n",
       "3                  No                No                   No           4   \n",
       "4                  No                No                   No           4   \n",
       "\n",
       "   Aggregate rating  Rating color Rating text Votes  \n",
       "0               4.8    Dark Green   Excellent   314  \n",
       "1               4.5    Dark Green   Excellent   591  \n",
       "2               4.4         Green   Very Good   270  \n",
       "3               4.9    Dark Green   Excellent   365  \n",
       "4               4.8    Dark Green   Excellent   229  \n",
       "\n",
       "[5 rows x 21 columns]"
      ]
     },
     "execution_count": 2,
     "metadata": {},
     "output_type": "execute_result"
    }
   ],
   "source": [
    "df=pd.read_csv(r'C:\\Users\\dazvi\\OneDrive\\Desktop\\cognifyz internship\\Dataset .csv')\n",
    "df.head()"
   ]
  },
  {
   "cell_type": "code",
   "execution_count": 3,
   "id": "ec08b579-32d2-4eb0-b09f-3861741087e5",
   "metadata": {},
   "outputs": [
    {
     "name": "stdout",
     "output_type": "stream",
     "text": [
      "0             French, Japanese, Desserts\n",
      "1                               Japanese\n",
      "2       Seafood, Asian, Filipino, Indian\n",
      "3                        Japanese, Sushi\n",
      "4                       Japanese, Korean\n",
      "                      ...               \n",
      "9546                             Turkish\n",
      "9547     World Cuisine, Patisserie, Cafe\n",
      "9548              Italian, World Cuisine\n",
      "9549                     Restaurant Cafe\n",
      "9550                                Cafe\n",
      "Name: Cuisines, Length: 9551, dtype: object\n"
     ]
    }
   ],
   "source": [
    "print(df['Cuisines'])"
   ]
  },
  {
   "cell_type": "code",
   "execution_count": 6,
   "id": "e5f82ec2-f2d1-4d63-bb72-953cc428bb1a",
   "metadata": {},
   "outputs": [
    {
     "data": {
      "text/plain": [
       "0             [French, Japanese, Desserts]\n",
       "1                               [Japanese]\n",
       "2       [Seafood, Asian, Filipino, Indian]\n",
       "3                        [Japanese, Sushi]\n",
       "4                       [Japanese, Korean]\n",
       "                       ...                \n",
       "9546                             [Turkish]\n",
       "9547     [World Cuisine, Patisserie, Cafe]\n",
       "9548              [Italian, World Cuisine]\n",
       "9549                     [Restaurant Cafe]\n",
       "9550                                [Cafe]\n",
       "Name: Cuisines, Length: 9551, dtype: object"
      ]
     },
     "execution_count": 6,
     "metadata": {},
     "output_type": "execute_result"
    }
   ],
   "source": [
    "Total_cuisines = df['Cuisines'].str.split(', ')\n",
    "Total_cuisines"
   ]
  },
  {
   "cell_type": "code",
   "execution_count": 14,
   "id": "1f04bc22-3076-4df5-acae-b398e7af468d",
   "metadata": {},
   "outputs": [
    {
     "data": {
      "image/png": "[encoded data removed]",
      "text/plain": [
       "<Figure size 800x600 with 1 Axes>"
      ]
     },
     "metadata": {},
     "output_type": "display_data"
    },
    {
     "name": "stdout",
     "output_type": "stream",
     "text": [
      "Most Common Rating Range: 0.0\n"
     ]
    }
   ],
   "source": [
    "# Create a histogram to visualize the distribution of aggregate ratings\n",
    "plt.figure(figsize=(8, 6))\n",
    "plt.hist(df['Aggregate rating'], bins=10, edgecolor='k')\n",
    "plt.xlabel('Aggregate Rating')\n",
    "plt.ylabel('Number of Restaurants')\n",
    "plt.title('Distribution of Aggregate Ratings')\n",
    "plt.show()\n",
    "\n",
    "# Determine the most common rating range\n",
    "most_common_rating_range = df['Aggregate rating'].mode()\n",
    "\n",
    "print(\"Most Common Rating Range:\", most_common_rating_range.values[0])"
   ]
  },
  {
   "cell_type": "code",
   "execution_count": 15,
   "id": "c4817851-0650-4d05-b070-2b40f285f043",
   "metadata": {},
   "outputs": [
    {
     "name": "stdout",
     "output_type": "stream",
     "text": [
      "Average Number of Votes Received by Restaurants: 156.91\n"
     ]
    }
   ],
   "source": [
    "# Calculate the average number of votes received by restaurants\n",
    "avg_votes = df['Votes'].mean()\n",
    "print(\"Average Number of Votes Received by Restaurants:\", round(avg_votes, 2))"
   ]
  },
  {
   "cell_type": "code",
   "execution_count": 16,
   "id": "6d70713c-6fea-49c6-9e0d-756159194afc",
   "metadata": {},
   "outputs": [
    {
     "data": {
      "text/plain": [
       "Text(0.5, 1.0, 'Distribution of Aggregate Ratings Among Restaurants')"
      ]
     },
     "execution_count": 16,
     "metadata": {},
     "output_type": "execute_result"
    },
    {
     "data": {
      "image/png": "[encoded data removed]",
      "text/plain": [
       "<Figure size 1000x600 with 1 Axes>"
      ]
     },
     "metadata": {},
     "output_type": "display_data"
    }
   ],
   "source": [
    "sns.set(style=\"whitegrid\")\n",
    "plt.figure(figsize=(10, 6))\n",
    "sns.histplot(df['Aggregate rating'], bins=range(1, 6), kde=False, color='skyblue', edgecolor='black')\n",
    "plt.title('Distribution of Aggregate Ratings Among Restaurants')"
   ]
  },
  {
   "cell_type": "code",
   "execution_count": 17,
   "id": "bb8f72ad-8e27-4aeb-9727-f1394f13327b",
   "metadata": {},
   "outputs": [
    {
     "data": {
      "text/plain": [
       "0             [French, Japanese, Desserts]\n",
       "1                               [Japanese]\n",
       "2       [Seafood, Asian, Filipino, Indian]\n",
       "3                        [Japanese, Sushi]\n",
       "4                       [Japanese, Korean]\n",
       "                       ...                \n",
       "9546                             [Turkish]\n",
       "9547     [World Cuisine, Patisserie, Cafe]\n",
       "9548              [Italian, World Cuisine]\n",
       "9549                     [Restaurant Cafe]\n",
       "9550                                [Cafe]\n",
       "Name: Cuisines, Length: 9551, dtype: object"
      ]
     },
     "execution_count": 17,
     "metadata": {},
     "output_type": "execute_result"
    }
   ],
   "source": [
    "Total_cuisines = df['Cuisines'].str.split(', ')\n",
    "Total_cuisines"
   ]
  },
  {
   "cell_type": "code",
   "execution_count": 19,
   "id": "be613aab-61ef-458d-a54b-c2a1145a60be",
   "metadata": {},
   "outputs": [
    {
     "name": "stdout",
     "output_type": "stream",
     "text": [
      "the most common combinations of cuisines in the dataset\n"
     ]
    },
    {
     "data": {
      "text/plain": [
       "Cuisines\n",
       "[North Indian]                      936\n",
       "[North Indian, Chinese]             511\n",
       "[Chinese]                           354\n",
       "[Fast Food]                         354\n",
       "[North Indian, Mughlai]             334\n",
       "[Cafe]                              299\n",
       "[Bakery]                            218\n",
       "[North Indian, Mughlai, Chinese]    197\n",
       "[Bakery, Desserts]                  170\n",
       "[Street Food]                       149\n",
       "Name: count, dtype: int64"
      ]
     },
     "execution_count": 19,
     "metadata": {},
     "output_type": "execute_result"
    }
   ],
   "source": [
    "print('the most common combinations of cuisines in the dataset')\n",
    "count_of_cuisines.head(10)"
   ]
  },
  {
   "cell_type": "code",
   "execution_count": 20,
   "id": "a5a5279d-e0f6-4156-bd1c-c70d13bad194",
   "metadata": {},
   "outputs": [
    {
     "data": {
      "text/html": [
       "<div>\n",
       "<style scoped>\n",
       "    .dataframe tbody tr th:only-of-type {\n",
       "        vertical-align: middle;\n",
       "    }\n",
       "\n",
       "    .dataframe tbody tr th {\n",
       "        vertical-align: top;\n",
       "    }\n",
       "\n",
       "    .dataframe thead th {\n",
       "        text-align: right;\n",
       "    }\n",
       "</style>\n",
       "<table border=\"1\" class=\"dataframe\">\n",
       "  <thead>\n",
       "    <tr style=\"text-align: right;\">\n",
       "      <th></th>\n",
       "      <th>Cuisines</th>\n",
       "      <th>Aggregate rating</th>\n",
       "    </tr>\n",
       "  </thead>\n",
       "  <tbody>\n",
       "    <tr>\n",
       "      <th>0</th>\n",
       "      <td>French, Japanese, Desserts</td>\n",
       "      <td>4.8</td>\n",
       "    </tr>\n",
       "    <tr>\n",
       "      <th>1</th>\n",
       "      <td>Japanese</td>\n",
       "      <td>4.5</td>\n",
       "    </tr>\n",
       "    <tr>\n",
       "      <th>2</th>\n",
       "      <td>Seafood, Asian, Filipino, Indian</td>\n",
       "      <td>4.4</td>\n",
       "    </tr>\n",
       "    <tr>\n",
       "      <th>3</th>\n",
       "      <td>Japanese, Sushi</td>\n",
       "      <td>4.9</td>\n",
       "    </tr>\n",
       "    <tr>\n",
       "      <th>4</th>\n",
       "      <td>Japanese, Korean</td>\n",
       "      <td>4.8</td>\n",
       "    </tr>\n",
       "    <tr>\n",
       "      <th>...</th>\n",
       "      <td>...</td>\n",
       "      <td>...</td>\n",
       "    </tr>\n",
       "    <tr>\n",
       "      <th>9546</th>\n",
       "      <td>Turkish</td>\n",
       "      <td>4.1</td>\n",
       "    </tr>\n",
       "    <tr>\n",
       "      <th>9547</th>\n",
       "      <td>World Cuisine, Patisserie, Cafe</td>\n",
       "      <td>4.2</td>\n",
       "    </tr>\n",
       "    <tr>\n",
       "      <th>9548</th>\n",
       "      <td>Italian, World Cuisine</td>\n",
       "      <td>3.7</td>\n",
       "    </tr>\n",
       "    <tr>\n",
       "      <th>9549</th>\n",
       "      <td>Restaurant Cafe</td>\n",
       "      <td>4.0</td>\n",
       "    </tr>\n",
       "    <tr>\n",
       "      <th>9550</th>\n",
       "      <td>Cafe</td>\n",
       "      <td>4.0</td>\n",
       "    </tr>\n",
       "  </tbody>\n",
       "</table>\n",
       "<p>9551 rows × 2 columns</p>\n",
       "</div>"
      ],
      "text/plain": [
       "                              Cuisines  Aggregate rating\n",
       "0           French, Japanese, Desserts               4.8\n",
       "1                             Japanese               4.5\n",
       "2     Seafood, Asian, Filipino, Indian               4.4\n",
       "3                      Japanese, Sushi               4.9\n",
       "4                     Japanese, Korean               4.8\n",
       "...                                ...               ...\n",
       "9546                           Turkish               4.1\n",
       "9547   World Cuisine, Patisserie, Cafe               4.2\n",
       "9548            Italian, World Cuisine               3.7\n",
       "9549                   Restaurant Cafe               4.0\n",
       "9550                              Cafe               4.0\n",
       "\n",
       "[9551 rows x 2 columns]"
      ]
     },
     "execution_count": 20,
     "metadata": {},
     "output_type": "execute_result"
    }
   ],
   "source": [
    "df[['Cuisines','Aggregate rating']]"
   ]
  },
  {
   "cell_type": "code",
   "execution_count": 28,
   "id": "092efdfd-53f8-491f-9ab0-4a2324ea6d8e",
   "metadata": {},
   "outputs": [
    {
     "data": {
      "text/plain": [
       "Cuisines\n",
       "Afghani                                      0.725\n",
       "Afghani, Mughlai, Chinese                    0.000\n",
       "Afghani, North Indian                        0.000\n",
       "Afghani, North Indian, Pakistani, Arabian    0.000\n",
       "African                                      4.700\n",
       "                                             ...  \n",
       "Western, Asian, Cafe                         4.200\n",
       "Western, Fusion, Fast Food                   3.200\n",
       "World Cuisine                                4.900\n",
       "World Cuisine, Mexican, Italian              4.400\n",
       "World Cuisine, Patisserie, Cafe              4.200\n",
       "Name: Aggregate rating, Length: 1825, dtype: float64"
      ]
     },
     "execution_count": 28,
     "metadata": {},
     "output_type": "execute_result"
    }
   ],
   "source": [
    "average_ratings_by_cuisines = df.groupby('Cuisines')['Aggregate rating'].mean()\n",
    "average_ratings_by_cuisines"
   ]
  },
  {
   "cell_type": "code",
   "execution_count": 32,
   "id": "78b9c88b-f4dd-442b-8312-60893f15c940",
   "metadata": {},
   "outputs": [
    {
     "data": {
      "text/plain": [
       "4.9"
      ]
     },
     "execution_count": 32,
     "metadata": {},
     "output_type": "execute_result"
    }
   ],
   "source": [
    "average_ratings_by_cuisines.max()"
   ]
  },
  {
   "cell_type": "code",
   "execution_count": 38,
   "id": "761f7b42-1f1c-46ea-8033-3850bb57b254",
   "metadata": {},
   "outputs": [
    {
     "data": {
      "text/plain": [
       "array(['French, Japanese, Desserts', 'Japanese',\n",
       "       'Seafood, Asian, Filipino, Indian', ..., 'Burger, Izgara',\n",
       "       'World Cuisine, Patisserie, Cafe', 'Italian, World Cuisine'],\n",
       "      dtype=object)"
      ]
     },
     "execution_count": 38,
     "metadata": {},
     "output_type": "execute_result"
    }
   ],
   "source": [
    "df['Cuisines'].unique()"
   ]
  },
  {
   "cell_type": "code",
   "execution_count": 41,
   "id": "5530147d-c4b0-48dd-bb60-b72d636de089",
   "metadata": {},
   "outputs": [
    {
     "data": {
      "text/plain": [
       "Restaurant Name\n",
       "Cafe Coffee Day             83\n",
       "Domino's Pizza              79\n",
       "Subway                      63\n",
       "Green Chick Chop            51\n",
       "McDonald's                  48\n",
       "                            ..\n",
       "Odeon Social                 1\n",
       "Johnny Rockets               1\n",
       "House of Commons             1\n",
       "HotMess                      1\n",
       "Walter's Coffee Roastery     1\n",
       "Name: count, Length: 7446, dtype: int64"
      ]
     },
     "execution_count": 41,
     "metadata": {},
     "output_type": "execute_result"
    }
   ],
   "source": [
    "chain_threshold = 5  # Example threshold, adjust as needed\n",
    "\n",
    "# Count the occurrences of each restaurant name\n",
    "restaurant_counts = df['Restaurant Name'].value_counts()\n",
    "restaurant_counts"
   ]
  },
  {
   "cell_type": "code",
   "execution_count": 42,
   "id": "fc2318a6-a909-4d91-8ad3-aef81b936d9d",
   "metadata": {},
   "outputs": [
    {
     "name": "stdout",
     "output_type": "stream",
     "text": [
      "Identified Restaurant Chains:\n",
      "['Cafe Coffee Day', \"Domino's Pizza\", 'Subway', 'Green Chick Chop', \"McDonald's\", 'Keventers', 'Pizza Hut', 'Giani', 'Baskin Robbins', 'Barbeque Nation', \"Giani's\", 'Barista', \"Dunkin' Donuts\", 'Costa Coffee', 'Pind Balluchi', 'Wah Ji Wah', 'Twenty Four Seven', 'Pizza Hut Delivery', 'Sagar Ratna', 'Republic of Chicken', 'KFC', 'Starbucks', 'Chaayos', 'Burger King', \"Haldiram's\", 'Shree Rathnam', 'Frontier', 'Moti Mahal Delux', 'Bikanervala', 'Aggarwal Sweets', 'Behrouz Biryani', \"Karim's\", 'Bikaner Sweets', 'Chicago Pizza', 'Apni Rasoi', '34, Chowringhee Lane', 'Wow! Momo', 'Madras Cafe', 'Burger Point', 'Gopala', 'Shama Chicken Corner', \"Berco's\", \"Nirula's Ice Cream\", 'Sardar A Pure Meat Shop', 'Yo! China', 'Cocoberry', 'Punjabi Tadka', 'Angels in my Kitchen', 'Faasos', 'Ovenstory Pizza', 'Chowringhee', 'Punjabi Chaap Corner', 'Kebab Xpress', 'Nazeer Foods', 'RollsKing', 'Tpot', 'Mocha', 'Dolce Gelato', \"Tibb's Frankie\", 'The Yellow Chilli', 'Slice of Italy', 'BTW', 'Khan Chacha', \"Chawla's�_\", 'China Town', 'Chinese Hut', 'Sanjha Chulha', 'Moti Mahal Delux Tandoori Trail', 'Mr. Sub', 'Al Bake', 'Bikaner Sweets & Restaurant', \"TGI Friday's\", 'Kings Kulfi', 'Pudding & Pie', 'Cafe Coffee Day - The Lounge', 'Southy', 'The Diet Kitchen', 'Biryani Blues', 'Goli Vada Pav No. 1', 'Punjabi Rasoi', 'The Beer Cafe', 'Wrapss', 'Mainland China', 'Farzi Cafe', 'Red Chilli', \"Nathu's Sweets\", 'Instapizza', \"Chili's\", \"Nando's\", 'Aggarwal Sweet India', 'Texas Roadhouse', 'Cake Point', 'Pita Pit', 'Chinese Corner', 'The Midnight Heroes', 'Kake Da Hotel', \"L'Opera\", 'Nukkadwala', \"Flirty Momo's\", 'Viva Hyderabad', 'Swagath', 'Sandoz', 'Punjab Grill', 'Kettle & Kegs', 'The Chinese Hut', 'Captain Grub', 'Mad Over Donuts', 'Aggarwal Sweet Corner', 'SGF - Spice Grill Flame', 'Shree Bikaner Misthan Bhandar', 'Da Pizza Corner', 'Happy Hakka']\n"
     ]
    }
   ],
   "source": [
    "# Identify restaurant chains based on the threshold\n",
    "restaurant_chains = restaurant_counts[restaurant_counts >= chain_threshold].index.tolist()\n",
    "\n",
    "# Display the identified restaurant chains\n",
    "print(\"Identified Restaurant Chains:\")\n",
    "print(restaurant_chains)"
   ]
  },
  {
   "cell_type": "code",
   "execution_count": null,
   "id": "5026fac6-a334-4cb0-aba9-f6a72ff01bf0",
   "metadata": {},
   "outputs": [],
   "source": []
  }
 ],
 "metadata": {
  "kernelspec": {
   "display_name": "Python 3 (ipykernel)",
   "language": "python",
   "name": "python3"
  },
  "language_info": {
   "codemirror_mode": {
    "name": "ipython",
    "version": 3
   },
   "file_extension": ".py",
   "mimetype": "text/x-python",
   "name": "python",
   "nbconvert_exporter": "python",
   "pygments_lexer": "ipython3",
   "version": "3.11.4"
  }
 },
 "nbformat": 4,
 "nbformat_minor": 5
}
