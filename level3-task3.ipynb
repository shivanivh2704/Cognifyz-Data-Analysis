{
 "cells": [
  {
   "cell_type": "code",
   "execution_count": 1,
   "id": "dc3c3d08-09f3-47b3-aa47-f683dad7b433",
   "metadata": {},
   "outputs": [],
   "source": [
    "import pandas as pd\n",
    "import matplotlib.pyplot as plt"
   ]
  },
  {
   "cell_type": "code",
   "execution_count": 3,
   "id": "8f900675-9200-43df-bad1-a83d90735a06",
   "metadata": {},
   "outputs": [],
   "source": [
    "df= pd.read_csv(r\"C:\\Users\\dazvi\\OneDrive\\Desktop\\cognifyz internship\\Dataset .csv\")"
   ]
  },
  {
   "cell_type": "code",
   "execution_count": 4,
   "id": "b7a81f2f-de67-4cfe-ad5d-ff5b53d4a37e",
   "metadata": {},
   "outputs": [
    {
     "data": {
      "text/html": [
       "<div>\n",
       "<style scoped>\n",
       "    .dataframe tbody tr th:only-of-type {\n",
       "        vertical-align: middle;\n",
       "    }\n",
       "\n",
       "    .dataframe tbody tr th {\n",
       "        vertical-align: top;\n",
       "    }\n",
       "\n",
       "    .dataframe thead tr th {\n",
       "        text-align: left;\n",
       "    }\n",
       "\n",
       "    .dataframe thead tr:last-of-type th {\n",
       "        text-align: right;\n",
       "    }\n",
       "</style>\n",
       "<table border=\"1\" class=\"dataframe\">\n",
       "  <thead>\n",
       "    <tr>\n",
       "      <th>Has Online delivery</th>\n",
       "      <th colspan=\"2\" halign=\"left\">No</th>\n",
       "      <th colspan=\"2\" halign=\"left\">Yes</th>\n",
       "      <th>All</th>\n",
       "    </tr>\n",
       "    <tr>\n",
       "      <th>Has Table booking</th>\n",
       "      <th>No</th>\n",
       "      <th>Yes</th>\n",
       "      <th>No</th>\n",
       "      <th>Yes</th>\n",
       "      <th></th>\n",
       "    </tr>\n",
       "    <tr>\n",
       "      <th>Price range</th>\n",
       "      <th></th>\n",
       "      <th></th>\n",
       "      <th></th>\n",
       "      <th></th>\n",
       "      <th></th>\n",
       "    </tr>\n",
       "  </thead>\n",
       "  <tbody>\n",
       "    <tr>\n",
       "      <th>1</th>\n",
       "      <td>3743</td>\n",
       "      <td>0</td>\n",
       "      <td>700</td>\n",
       "      <td>1</td>\n",
       "      <td>4444</td>\n",
       "    </tr>\n",
       "    <tr>\n",
       "      <th>2</th>\n",
       "      <td>1711</td>\n",
       "      <td>116</td>\n",
       "      <td>1163</td>\n",
       "      <td>123</td>\n",
       "      <td>3113</td>\n",
       "    </tr>\n",
       "    <tr>\n",
       "      <th>3</th>\n",
       "      <td>624</td>\n",
       "      <td>373</td>\n",
       "      <td>140</td>\n",
       "      <td>271</td>\n",
       "      <td>1408</td>\n",
       "    </tr>\n",
       "    <tr>\n",
       "      <th>4</th>\n",
       "      <td>299</td>\n",
       "      <td>234</td>\n",
       "      <td>13</td>\n",
       "      <td>40</td>\n",
       "      <td>586</td>\n",
       "    </tr>\n",
       "    <tr>\n",
       "      <th>All</th>\n",
       "      <td>6377</td>\n",
       "      <td>723</td>\n",
       "      <td>2016</td>\n",
       "      <td>435</td>\n",
       "      <td>9551</td>\n",
       "    </tr>\n",
       "  </tbody>\n",
       "</table>\n",
       "</div>"
      ],
      "text/plain": [
       "Has Online delivery    No        Yes        All\n",
       "Has Table booking      No  Yes    No  Yes      \n",
       "Price range                                    \n",
       "1                    3743    0   700    1  4444\n",
       "2                    1711  116  1163  123  3113\n",
       "3                     624  373   140  271  1408\n",
       "4                     299  234    13   40   586\n",
       "All                  6377  723  2016  435  9551"
      ]
     },
     "execution_count": 4,
     "metadata": {},
     "output_type": "execute_result"
    }
   ],
   "source": [
    "# Create a contingency table to analyze the relationship\n",
    "contingency_table = pd.crosstab(index=df['Price range'], columns=[df['Has Online delivery'], df['Has Table booking']], margins=True)\n",
    "\n",
    "contingency_table"
   ]
  },
  {
   "cell_type": "code",
   "execution_count": 5,
   "id": "27cf75c5-ae47-4eac-978d-76f5d228c944",
   "metadata": {},
   "outputs": [
    {
     "name": "stdout",
     "output_type": "stream",
     "text": [
      "[3 4 2 1]\n",
      "['No' 'Yes']\n",
      "['Yes' 'No']\n"
     ]
    }
   ],
   "source": [
    "# checking the unique values in these columns\n",
    "print(df['Price range'].unique())\n",
    "print(df['Has Online delivery'].unique())\n",
    "print(df['Has Table booking'].unique())"
   ]
  },
  {
   "cell_type": "code",
   "execution_count": 6,
   "id": "28d6fe50-8050-4d75-9717-fe1570e8af26",
   "metadata": {},
   "outputs": [],
   "source": [
    "# replacing string into number because we can't group a string\n",
    "df['Has Online delivery'] = df['Has Online delivery'].map({'Yes': 1, 'No': 0})\n",
    "df['Has Table booking'] = df['Has Table booking'].map({'Yes': 1, 'No': 0})"
   ]
  },
  {
   "cell_type": "code",
   "execution_count": 7,
   "id": "6d268174-a794-4029-928c-11e289ef458c",
   "metadata": {},
   "outputs": [
    {
     "name": "stdout",
     "output_type": "stream",
     "text": [
      "[3 4 2 1]\n",
      "[0 1]\n",
      "[1 0]\n"
     ]
    }
   ],
   "source": [
    "print(df['Price range'].unique())\n",
    "print(df['Has Online delivery'].unique())\n",
    "print(df['Has Table booking'].unique())"
   ]
  },
  {
   "cell_type": "code",
   "execution_count": 8,
   "id": "2af18afb-8b24-4fb0-91de-47c46074298d",
   "metadata": {},
   "outputs": [
    {
     "data": {
      "text/html": [
       "<div>\n",
       "<style scoped>\n",
       "    .dataframe tbody tr th:only-of-type {\n",
       "        vertical-align: middle;\n",
       "    }\n",
       "\n",
       "    .dataframe tbody tr th {\n",
       "        vertical-align: top;\n",
       "    }\n",
       "\n",
       "    .dataframe thead th {\n",
       "        text-align: right;\n",
       "    }\n",
       "</style>\n",
       "<table border=\"1\" class=\"dataframe\">\n",
       "  <thead>\n",
       "    <tr style=\"text-align: right;\">\n",
       "      <th></th>\n",
       "      <th>Has Online delivery</th>\n",
       "      <th>Has Table booking</th>\n",
       "    </tr>\n",
       "    <tr>\n",
       "      <th>Price range</th>\n",
       "      <th></th>\n",
       "      <th></th>\n",
       "    </tr>\n",
       "  </thead>\n",
       "  <tbody>\n",
       "    <tr>\n",
       "      <th>1</th>\n",
       "      <td>0.157741</td>\n",
       "      <td>0.000225</td>\n",
       "    </tr>\n",
       "    <tr>\n",
       "      <th>2</th>\n",
       "      <td>0.413106</td>\n",
       "      <td>0.076775</td>\n",
       "    </tr>\n",
       "    <tr>\n",
       "      <th>3</th>\n",
       "      <td>0.291903</td>\n",
       "      <td>0.457386</td>\n",
       "    </tr>\n",
       "    <tr>\n",
       "      <th>4</th>\n",
       "      <td>0.090444</td>\n",
       "      <td>0.467577</td>\n",
       "    </tr>\n",
       "  </tbody>\n",
       "</table>\n",
       "</div>"
      ],
      "text/plain": [
       "             Has Online delivery  Has Table booking\n",
       "Price range                                        \n",
       "1                       0.157741           0.000225\n",
       "2                       0.413106           0.076775\n",
       "3                       0.291903           0.457386\n",
       "4                       0.090444           0.467577"
      ]
     },
     "execution_count": 8,
     "metadata": {},
     "output_type": "execute_result"
    }
   ],
   "source": [
    "relationship = df.groupby('Price range')[['Has Online delivery', 'Has Table booking']].mean()\n",
    "relationship"
   ]
  },
  {
   "cell_type": "code",
   "execution_count": 11,
   "id": "72f4e806-0aa8-4492-9291-4d2c7c884103",
   "metadata": {},
   "outputs": [
    {
     "data": {
      "text/plain": [
       "Has Online delivery\n",
       "0    533\n",
       "1     53\n",
       "Name: Price range, dtype: int64"
      ]
     },
     "execution_count": 11,
     "metadata": {},
     "output_type": "execute_result"
    }
   ],
   "source": [
    "high_range = df[df['Price range'] == 4]\n",
    "offer_delivery =high_range.groupby('Has Online delivery')['Price range'].count()\n",
    "offer_delivery\n",
    "     "
   ]
  },
  {
   "cell_type": "code",
   "execution_count": 12,
   "id": "de1f7ba0-cafb-43be-9aa7-1255b31a42a4",
   "metadata": {},
   "outputs": [
    {
     "data": {
      "text/plain": [
       "Has Table booking\n",
       "0    312\n",
       "1    274\n",
       "Name: Price range, dtype: int64"
      ]
     },
     "execution_count": 12,
     "metadata": {},
     "output_type": "execute_result"
    }
   ],
   "source": [
    "high_range_booking = df[df['Price range'] == 4]\n",
    "offer =high_range_booking.groupby('Has Table booking')['Price range'].count()\n",
    "offer"
   ]
  },
  {
   "cell_type": "code",
   "execution_count": 21,
   "id": "44eb61d8-f74f-4626-b26f-c697d1b51e59",
   "metadata": {},
   "outputs": [
    {
     "data": {
      "image/png": "[encoded data removed]",
      "text/plain": [
       "<Figure size 500x300 with 1 Axes>"
      ]
     },
     "metadata": {},
     "output_type": "display_data"
    }
   ],
   "source": [
    "plt.figure(figsize=(5, 3))\n",
    "plt.bar(relationship.index, relationship['Has Online delivery'], color='royalblue')\n",
    "plt.xlabel('Price Range')\n",
    "plt.ylabel('Online Delivery Availability')\n",
    "plt.title('Online Delivery Availability by Price Range')\n",
    "plt.show()"
   ]
  },
  {
   "cell_type": "code",
   "execution_count": 22,
   "id": "05dd8c97-1e75-48dc-8222-f4b2da3a347b",
   "metadata": {},
   "outputs": [
    {
     "data": {
      "image/png": "[encoded data removed]",
      "text/plain": [
       "<Figure size 500x300 with 1 Axes>"
      ]
     },
     "metadata": {},
     "output_type": "display_data"
    }
   ],
   "source": [
    "plt.figure(figsize=(5, 3))\n",
    "plt.bar(relationship.index, relationship['Has Table booking'], color='yellow')\n",
    "plt.xlabel('Price Range')\n",
    "plt.ylabel('Table Booking Availability')\n",
    "plt.title('Table Booking Availability by Price Range')\n",
    "plt.show()"
   ]
  },
  {
   "cell_type": "code",
   "execution_count": null,
   "id": "76633fa5-915e-41b5-ba03-119a7e567426",
   "metadata": {},
   "outputs": [],
   "source": [
    "'''\n",
    "Objective\n",
    "The objective of this project is to analyze the relationship between the price range of restaurants and the availability of online delivery and table booking services. Additionally, the project aims to determine if higher-priced restaurants are more likely to offer these services.\n",
    "\n",
    "Steps Involved\n",
    "Data Collection:\n",
    "Gather a dataset containing information about restaurants, including their price range, availability of online delivery, and table booking services.\n",
    "Data Preprocessing:\n",
    "Clean and preprocess the data to ensure it is ready for analysis. This may include handling missing values, normalizing data, and encoding categorical variables.\n",
    "Exploratory Data Analysis (EDA):\n",
    "Perform EDA to understand the distribution of price ranges and the availability of online delivery and table booking services.\n",
    "Correlation Analysis:\n",
    "Analyze the relationship between the price range and the availability of online delivery and table booking services using statistical methods.\n",
    "Hypothesis Testing:\n",
    "Conduct hypothesis tests to determine if higher-priced restaurants are more likely to offer online delivery and table booking services.\n",
    "Visualization:\n",
    "Visualize the results using charts or graphs to illustrate the relationship between price range and the availability of these services.\n",
    "Outcome\n",
    "The project successfully identifies the relationship between the price range of restaurants and the availability of online delivery and table booking services. It also determines if higher-priced restaurants are more likely to offer these services, providing valuable insights for restaurant owners and customers.'''"
   ]
  }
 ],
 "metadata": {
  "kernelspec": {
   "display_name": "Python 3 (ipykernel)",
   "language": "python",
   "name": "python3"
  },
  "language_info": {
   "codemirror_mode": {
    "name": "ipython",
    "version": 3
   },
   "file_extension": ".py",
   "mimetype": "text/x-python",
   "name": "python",
   "nbconvert_exporter": "python",
   "pygments_lexer": "ipython3",
   "version": "3.11.4"
  }
 },
 "nbformat": 4,
 "nbformat_minor": 5
}
